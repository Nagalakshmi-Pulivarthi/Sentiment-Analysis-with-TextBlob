{
 "cells": [
  {
   "cell_type": "code",
   "execution_count": 4,
   "id": "c41d45fe",
   "metadata": {},
   "outputs": [],
   "source": [
    "from bs4 import BeautifulSoup as bs\n",
    "import requests\n",
    "from splinter import Browser\n",
    "from textblob import TextBlob\n",
    "import pandas as pd"
   ]
  },
  {
   "cell_type": "code",
   "execution_count": 5,
   "id": "008a3a24",
   "metadata": {},
   "outputs": [],
   "source": [
    "browser = Browser('chrome')"
   ]
  },
  {
   "cell_type": "code",
   "execution_count": 6,
   "id": "d0e44046",
   "metadata": {},
   "outputs": [],
   "source": [
    "url='https://news.ycombinator.com/'\n",
    "response=browser.visit(url)\n",
    "response"
   ]
  },
  {
   "cell_type": "code",
   "execution_count": 7,
   "id": "d6a6882a",
   "metadata": {},
   "outputs": [],
   "source": [
    "html=browser.html\n",
    "soup=bs(html,'html.parser')\n",
    "news=soup.find_all('span',class_='titleline')"
   ]
  },
  {
   "cell_type": "code",
   "execution_count": 14,
   "id": "70067370",
   "metadata": {},
   "outputs": [],
   "source": [
    "news_list=[]\n",
    "for new in news:\n",
    "#     print(new.text)\n",
    "    news_list.append(new.text)\n",
    "#     b=new.text.sentiment\n",
    "#     print(b)"
   ]
  },
  {
   "cell_type": "code",
   "execution_count": 26,
   "id": "0d067d46",
   "metadata": {},
   "outputs": [],
   "source": [
    "sentiment_data=[]\n",
    "for item in news_list:\n",
    "    test=TextBlob(item)\n",
    "    sentiment=test.sentiment.polarity\n",
    "    sentiment_label=\"Neatral\"\n",
    "    if sentiment >0:\n",
    "        sentiment_label=\"Positive\"\n",
    "    elif sentiment<0:\n",
    "        sentiment_label=\"Negative\"\n",
    "    sentiment_data.append({\"Headlines\":item, \"Sentiment\":sentiment_label})\n",
    "    \n"
   ]
  },
  {
   "cell_type": "code",
   "execution_count": 30,
   "id": "21685497",
   "metadata": {},
   "outputs": [
    {
     "data": {
      "text/html": [
       "<div>\n",
       "<style scoped>\n",
       "    .dataframe tbody tr th:only-of-type {\n",
       "        vertical-align: middle;\n",
       "    }\n",
       "\n",
       "    .dataframe tbody tr th {\n",
       "        vertical-align: top;\n",
       "    }\n",
       "\n",
       "    .dataframe thead th {\n",
       "        text-align: right;\n",
       "    }\n",
       "</style>\n",
       "<table border=\"1\" class=\"dataframe\">\n",
       "  <thead>\n",
       "    <tr style=\"text-align: right;\">\n",
       "      <th></th>\n",
       "      <th>Headlines</th>\n",
       "      <th>Sentiment</th>\n",
       "    </tr>\n",
       "  </thead>\n",
       "  <tbody>\n",
       "    <tr>\n",
       "      <th>0</th>\n",
       "      <td>ESPN AI-generated recap of retiring player's f...</td>\n",
       "      <td>Negative</td>\n",
       "    </tr>\n",
       "    <tr>\n",
       "      <th>1</th>\n",
       "      <td>The short history of global living conditions ...</td>\n",
       "      <td>Neatral</td>\n",
       "    </tr>\n",
       "    <tr>\n",
       "      <th>2</th>\n",
       "      <td>Why I Wrote Data Science for Crime Analysis wi...</td>\n",
       "      <td>Neatral</td>\n",
       "    </tr>\n",
       "    <tr>\n",
       "      <th>3</th>\n",
       "      <td>20% more powerful perovskite solar panels ente...</td>\n",
       "      <td>Positive</td>\n",
       "    </tr>\n",
       "    <tr>\n",
       "      <th>4</th>\n",
       "      <td>Hacking misconfigured AWS S3 buckets: A comple...</td>\n",
       "      <td>Positive</td>\n",
       "    </tr>\n",
       "    <tr>\n",
       "      <th>5</th>\n",
       "      <td>Show HN: Io_uring for Ruby (github.com/digital...</td>\n",
       "      <td>Neatral</td>\n",
       "    </tr>\n",
       "    <tr>\n",
       "      <th>6</th>\n",
       "      <td>QUIC is not quick enough over fast internet (a...</td>\n",
       "      <td>Positive</td>\n",
       "    </tr>\n",
       "    <tr>\n",
       "      <th>7</th>\n",
       "      <td>Nobody Cares About Security (adatosystems.com)</td>\n",
       "      <td>Neatral</td>\n",
       "    </tr>\n",
       "    <tr>\n",
       "      <th>8</th>\n",
       "      <td>Smartphone Tethering: A Bigger Grind Than It N...</td>\n",
       "      <td>Neatral</td>\n",
       "    </tr>\n",
       "    <tr>\n",
       "      <th>9</th>\n",
       "      <td>Synthetic diamonds are now purer, more beautif...</td>\n",
       "      <td>Positive</td>\n",
       "    </tr>\n",
       "  </tbody>\n",
       "</table>\n",
       "</div>"
      ],
      "text/plain": [
       "                                           Headlines Sentiment\n",
       "0  ESPN AI-generated recap of retiring player's f...  Negative\n",
       "1  The short history of global living conditions ...   Neatral\n",
       "2  Why I Wrote Data Science for Crime Analysis wi...   Neatral\n",
       "3  20% more powerful perovskite solar panels ente...  Positive\n",
       "4  Hacking misconfigured AWS S3 buckets: A comple...  Positive\n",
       "5  Show HN: Io_uring for Ruby (github.com/digital...   Neatral\n",
       "6  QUIC is not quick enough over fast internet (a...  Positive\n",
       "7     Nobody Cares About Security (adatosystems.com)   Neatral\n",
       "8  Smartphone Tethering: A Bigger Grind Than It N...   Neatral\n",
       "9  Synthetic diamonds are now purer, more beautif...  Positive"
      ]
     },
     "execution_count": 30,
     "metadata": {},
     "output_type": "execute_result"
    }
   ],
   "source": [
    "\n",
    "sentiment_data_df=pd.DataFrame(sentiment_data)\n",
    "sentiment_data_df.head(10)"
   ]
  },
  {
   "cell_type": "code",
   "execution_count": null,
   "id": "136748e4",
   "metadata": {},
   "outputs": [],
   "source": []
  }
 ],
 "metadata": {
  "kernelspec": {
   "display_name": "Python 3 (ipykernel)",
   "language": "python",
   "name": "python3"
  },
  "language_info": {
   "codemirror_mode": {
    "name": "ipython",
    "version": 3
   },
   "file_extension": ".py",
   "mimetype": "text/x-python",
   "name": "python",
   "nbconvert_exporter": "python",
   "pygments_lexer": "ipython3",
   "version": "3.11.5"
  }
 },
 "nbformat": 4,
 "nbformat_minor": 5
}
